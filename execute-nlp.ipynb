{
 "cells": [
  {
   "cell_type": "markdown",
   "metadata": {},
   "source": [
    "# Example usage Rule-based candidate\n",
    "#### Note : while running this candidate it might generate empty content for some scenarios"
   ]
  },
  {
   "cell_type": "code",
   "execution_count": 6,
   "metadata": {},
   "outputs": [],
   "source": [
    "from Adapters.NLP.nlp import generate_uml_from_text as guml"
   ]
  },
  {
   "cell_type": "code",
   "execution_count": 2,
   "metadata": {},
   "outputs": [],
   "source": [
    "scenario = \"\"\"\n",
    "In our action camera store, we specialize in cameras designed for adventurers and professionals seeking rugged and versatile solutions to capture their journeys. The inclusion of different models like ActionCamPro and AdventureCamX caters to a comprehensive range of activities and environments. These cameras come equipped with various high-quality components such as lenses, batteries, and mounts, which are critical to perform under extreme conditions.\n",
    "\n",
    "Lenses are fundamental to our cameras; they handle different lighting and focus to deliver clear, high-quality images and videos. Batteries are essential for ensuring that our cameras can operate for extended periods, especially in remote locations where charging facilities might be sparse. Mounts, including ChestMounts and HelmetMounts, provide our customers with hands-free operation allowing them to concentrate on their activities while capturing moments seamlessly from different perspectives.\n",
    "\n",
    "Each action camera model and component is uniquely identified by names, descriptions, and IDs, which are essential for inventory management and simplifying the customer experience. Understanding these details helps in automating tasks such as stock check, categorization, and even recommendations based on the previous purchase history or customer preferences.\n",
    "\n",
    "Including these entities in the model is crucial not only for operational efficiency but also for emphasizing the customizability and adaptability of our products to various user needs. This detailed structuring ensures we can provide precise and quick services and product suggestions, enhancing overall customer satisfaction and streamlining their purchasing process.\n",
    "\"\"\""
   ]
  },
  {
   "cell_type": "code",
   "execution_count": 3,
   "metadata": {},
   "outputs": [
    {
     "name": "stdout",
     "output_type": "stream",
     "text": [
      "@startuml\n",
      "\n",
      "\n",
      "@enduml\n",
      "\n"
     ]
    }
   ],
   "source": [
    "nlp_result = guml(scenario)\n",
    "print(nlp_result)"
   ]
  },
  {
   "cell_type": "code",
   "execution_count": 4,
   "metadata": {},
   "outputs": [],
   "source": [
    "scenario = \"\"\"\n",
    "In our HVAC (Heating, Ventilation, and Air Conditioning) company, we specialize in providing solutions tailored to enhance indoor air quality and temperature control through our range of air conditioners. Including air conditioners, services such as installation and maintenance, and other entities in the domain model is crucial for a seamless operation of our business.\n",
    "\n",
    "**Installation** and **maintenance** services are essential; the former ensures that air conditioners are set up properly, optimized for performance from the onset. The latter guarantees that air conditioners operate efficiently, maintaining high performance throughout their lifecycle, which is significant in ensuring customer satisfaction and reducing unit failures.\n",
    "\n",
    "Each **air conditioner** unit listed in our portfolio is identified uniquely by ID with detailed descriptions, making it easier to manage our inventory and customer orders. The connection between air conditioners and services indicates that each unit might be attached to multiple services, which include both installation and maintenance - ensuring comprehensive coverage for every purchase.\n",
    "\n",
    "The role of a **Lead Installer**, who may hold various **skills** and **certifications**, is crucial in our operations. Skills like **Refrigerant Handling** and **Electrical Wiring** are necessary for safe and effective installation and maintenance services. Certifications such as **EPA Refrigerant Certification** and being a licensed **HVAC Technician** ensure that our lead installers meet industry standards and regulations, providing trust and reliability in the services offered.\n",
    "\n",
    "**Installation teams** work under the supervision of Lead Installers, ensuring quality and adherence to safety standards. This hierarchy and its clear depiction in our model ensure that responsibilities are well defined within our operational procedures.\n",
    "\n",
    "On the sales and customer service front, tracking **customers** such as Alice Johnson, Bob Williams, and Home Comforts LLC, and their respective **orders** helps personalize the service offerings. Each order can include multiple air conditioners and results in an **invoice**, reflecting our commitment to detailed and transparent billing. Each invoice is linked to a **payment**, and customers can use diverse **payment methods** like Credit Card, Bank Transfer, or choose a Financing Option, making transactions flexible and customer-friendly.\n",
    "\n",
    "From an operational perspective, our **inventory management** through inventory control is vital. The **shipments** dispatched from and received by the **distribution center** help track the product movement efficiently, ensuring timely delivery of units to customers or replenishment of stock.\n",
    "\n",
    "All these entities and their relationships in the domain model are vital for automating our business processes. They help in building and maintaining a highly efficient, customer-centric business ecosystem. This framework not only supports day-to-day operations but also aids in strategic decision-making and long-term business planning.\n",
    "\"\"\""
   ]
  },
  {
   "cell_type": "code",
   "execution_count": 5,
   "metadata": {},
   "outputs": [
    {
     "name": "stdout",
     "output_type": "stream",
     "text": [
      "@startuml\n",
      "\n",
      "Teams \"1..*\" -- \"1\" Supervision : work under\n",
      "Order \"1\" o-- \"1\" Invoice\n",
      "Order \"1\" o-- \"1..*\" Results\n",
      "Order \"1\" o-- \"1..*\" Conditioners\n",
      "Results \"1..*\" *-- \"1\" Order\n",
      "Conditioners \"1..*\" *-- \"1\" Order\n",
      "\n",
      "@enduml\n",
      "\n"
     ]
    }
   ],
   "source": [
    "nlp_result = guml(scenario)\n",
    "print(nlp_result)"
   ]
  }
 ],
 "metadata": {
  "kernelspec": {
   "display_name": "venv_gpt",
   "language": "python",
   "name": "python3"
  },
  "language_info": {
   "codemirror_mode": {
    "name": "ipython",
    "version": 3
   },
   "file_extension": ".py",
   "mimetype": "text/x-python",
   "name": "python",
   "nbconvert_exporter": "python",
   "pygments_lexer": "ipython3",
   "version": "3.12.2"
  }
 },
 "nbformat": 4,
 "nbformat_minor": 2
}
