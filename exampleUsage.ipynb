{
 "cells": [
  {
   "cell_type": "code",
   "execution_count": 1,
   "metadata": {},
   "outputs": [],
   "source": [
    "from Adapters.GPT_v2.gpt2 import *"
   ]
  },
  {
   "cell_type": "code",
   "execution_count": 2,
   "metadata": {},
   "outputs": [],
   "source": [
    "from openai import OpenAI\n",
    "import json\n",
    "import sys\n",
    "\n",
    "def setup_gpt2_candidate():\n",
    "    client = setup()\n",
    "    return client\n",
    "\n",
    "client = setup_gpt2_candidate()"
   ]
  },
  {
   "cell_type": "code",
   "execution_count": 3,
   "metadata": {},
   "outputs": [],
   "source": [
    "scenario = \"\"\"\n",
    "In our action camera store, we specialize in cameras designed for adventurers and professionals seeking rugged and versatile solutions to capture their journeys. The inclusion of different models like ActionCamPro and AdventureCamX caters to a comprehensive range of activities and environments. These cameras come equipped with various high-quality components such as lenses, batteries, and mounts, which are critical to perform under extreme conditions.\n",
    "\n",
    "Lenses are fundamental to our cameras; they handle different lighting and focus to deliver clear, high-quality images and videos. Batteries are essential for ensuring that our cameras can operate for extended periods, especially in remote locations where charging facilities might be sparse. Mounts, including ChestMounts and HelmetMounts, provide our customers with hands-free operation allowing them to concentrate on their activities while capturing moments seamlessly from different perspectives.\n",
    "\n",
    "Each action camera model and component is uniquely identified by names, descriptions, and IDs, which are essential for inventory management and simplifying the customer experience. Understanding these details helps in automating tasks such as stock check, categorization, and even recommendations based on the previous purchase history or customer preferences.\n",
    "\n",
    "Including these entities in the model is crucial not only for operational efficiency but also for emphasizing the customizability and adaptability of our products to various user needs. This detailed structuring ensures we can provide precise and quick services and product suggestions, enhancing overall customer satisfaction and streamlining their purchasing process.\n",
    "\"\"\""
   ]
  },
  {
   "cell_type": "code",
   "execution_count": 4,
   "metadata": {},
   "outputs": [
    {
     "name": "stdout",
     "output_type": "stream",
     "text": [
      "@startuml\n",
      "\n",
      "ActionCamera \"1\" -- \"*\" Component : equipped with\n",
      "Component \"1\" -- \"1..*\" ActionCamera : part of\n",
      "ActionCamera <|-- ActionCamPro\n",
      "ActionCamera <|-- AdventureCamX\n",
      "Mount <|-- ChestMount\n",
      "Mount <|-- HelmetMount\n",
      "ActionCamera : name\n",
      "ActionCamera : description\n",
      "ActionCamera : ID\n",
      "Component : name\n",
      "Component : description\n",
      "Component : ID\n",
      "\n",
      "@enduml\n"
     ]
    }
   ],
   "source": [
    "gpt_v2_result = gpt_v2_interface(scenario, client)\n",
    "print(gpt_v2_result)"
   ]
  },
  {
   "cell_type": "code",
   "execution_count": null,
   "metadata": {},
   "outputs": [],
   "source": []
  }
 ],
 "metadata": {
  "kernelspec": {
   "display_name": "base",
   "language": "python",
   "name": "python3"
  },
  "language_info": {
   "codemirror_mode": {
    "name": "ipython",
    "version": 3
   },
   "file_extension": ".py",
   "mimetype": "text/x-python",
   "name": "python",
   "nbconvert_exporter": "python",
   "pygments_lexer": "ipython3",
   "version": "3.9.15"
  }
 },
 "nbformat": 4,
 "nbformat_minor": 2
}
